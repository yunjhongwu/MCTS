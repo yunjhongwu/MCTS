{
 "cells": [
  {
   "cell_type": "code",
   "execution_count": null,
   "metadata": {},
   "outputs": [],
   "source": [
    "import numpy as np\n",
    "import matplotlib.pyplot as plt\n",
    "import networkx as nx\n",
    "\n",
    "from tree import DOO, StoOO, HOO\n",
    "from utils import visualize"
   ]
  },
  {
   "cell_type": "code",
   "execution_count": null,
   "metadata": {},
   "outputs": [],
   "source": [
    "def fun(x):\n",
    "    return 0.5 * (np.sin(13 * x) * np.sin(27 * x) + 1)\n",
    "\n",
    "def noisy_fun(x):\n",
    "    return 0.5 * (np.sin(13 * x) * np.sin(27 * x) + 1) + np.random.normal(0, 0.1)"
   ]
  },
  {
   "cell_type": "code",
   "execution_count": null,
   "metadata": {},
   "outputs": [],
   "source": [
    "def delta(depth: int, num: int=0, size: int=0, eta: float = 0.0):\n",
    "    delta_h = 222 * 2 ** (-2 * depth)\n",
    "    if eta > 0 and size > 0 and num > 0:\n",
    "        rate = np.sqrt(0.5 * np.log(num * num / eta) / size)\n",
    "    else:\n",
    "        rate = 0\n",
    "    return delta_h + rate"
   ]
  },
  {
   "cell_type": "code",
   "execution_count": null,
   "metadata": {},
   "outputs": [],
   "source": [
    "tree = DOO(fun, delta)\n",
    "\n",
    "result = tree.search(150)\n",
    "visualize(tree, fun)"
   ]
  },
  {
   "cell_type": "code",
   "execution_count": null,
   "metadata": {},
   "outputs": [],
   "source": [
    "tree = StoOO(noisy_fun, delta, eta=0.1)\n",
    "\n",
    "result = tree.search(1500)\n",
    "visualize(tree, fun)"
   ]
  },
  {
   "cell_type": "code",
   "execution_count": null,
   "metadata": {},
   "outputs": [],
   "source": [
    "tree = HOO(noisy_fun, delta, eta=0.1)\n",
    "\n",
    "result = tree.search(150)\n",
    "visualize(tree, fun)"
   ]
  },
  {
   "cell_type": "code",
   "execution_count": null,
   "metadata": {},
   "outputs": [],
   "source": []
  }
 ],
 "metadata": {
  "kernelspec": {
   "display_name": "Python 3",
   "language": "python",
   "name": "python3"
  },
  "language_info": {
   "codemirror_mode": {
    "name": "ipython",
    "version": 3
   },
   "file_extension": ".py",
   "mimetype": "text/x-python",
   "name": "python",
   "nbconvert_exporter": "python",
   "pygments_lexer": "ipython3",
   "version": "3.7.0"
  }
 },
 "nbformat": 4,
 "nbformat_minor": 2
}
